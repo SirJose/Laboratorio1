{
 "cells": [
  {
   "cell_type": "markdown",
   "id": "bb03cae0-06c5-4be0-b91e-2bfce6b8fe31",
   "metadata": {},
   "source": [
    "# <center>Laboratorio 1</center>\n",
    "\n",
    "#### ***Nombre***: Jose Eduardo Calderon Lopez\n",
    "#### ***Carnet***: 14001764\n",
    "\n",
    "<br>\n",
    "<hr>\n",
    "<br>"
   ]
  },
  {
   "cell_type": "markdown",
   "id": "6681548b-9fc6-492d-ba01-e35e60bf730b",
   "metadata": {
    "tags": []
   },
   "source": [
    "# ¿Qué es Git? <img src=\"https://git-scm.com/images/logos/downloads/Git-Icon-1788C.png\" alt=\"Logo Git\" width=\"25\">"
   ]
  },
  {
   "cell_type": "markdown",
   "id": "f8d11342-b307-4360-8637-9c4982d30f0b",
   "metadata": {
    "tags": []
   },
   "source": [
    "<img src=\"https://git-scm.com/images/logos/downloads/Git-Logo-2Color.png\" alt=\"Logo Git\" width=\"40\"> es un sistema de control de versiones (VCS). Como su nombre lo indica, es una herramienta utilizada para llevar el control de las distintas versiones del código o de cualquier otro tipo de archivos de cualquier proyecto. Al hablar de versiones del código nos referimos a como este va cambiando a medida que se realiza cualquier tipo de modificación.\n",
    "\n",
    "Una analogía que nos puede ser de utilidad para entender el problema que trata de solucionar Git es por ejemplo cuando escribimos un documento de investigación. Generalmente lo que hacemos cambios es crear copias del mismo archivo para llevar una especie de “historial\" del mismo hasta que llegamos a la versión final entregable. El problema con esto puede no ser tan evidente con un solo archivo, pero cuando esto sucede con proyectos más grandes, se vuelve insostenible. No sería prudente crear una copia entera del código de una aplicación por cada cambio realizado. \n",
    "\n",
    "Por otro lado, se podría utilizar una única copia del documento, sin embargo, esto también es problemático. Si cometemos un error no podremos volver a una versión anterior del documento. Lo mismo sucede con el código de un proyecto. Sería muy problemático si accidentalmente introducimos un problema al código y no disponemos de la versión anterior del código que no tenía este error. \n",
    "\n",
    "Git soluciona este problema al permitirnos llevar el control de las distintas versiones anteriores de uno o varios archivos sin necesidad de crear copias cada vez que realizamos un cambio. Además, nos permite volver a las versiones anteriores con mucha facilidad, comparar entre versiones, crear distintas ramas de trabajo y todo esto haciendo uso de unas cuantas líneas de código.\n"
   ]
  },
  {
   "cell_type": "markdown",
   "id": "d97eb437-2106-4aba-8258-344a6d2ef875",
   "metadata": {
    "tags": []
   },
   "source": [
    "### Algunas definiciones"
   ]
  },
  {
   "cell_type": "markdown",
   "id": "c150f16a-8e45-4439-b8d6-95aed18ea41e",
   "metadata": {},
   "source": [
    "A continuación se definen algunos conceptos relevantes que nos servirán para comprender con más detalle de que se trata Git. Generalmente nos referimos a estas definiciones en inglés, pero también es posible traducirlas al español y no habría ningun problema.\n",
    "<ul>\n",
    "    <li><b>Repositorio (repo):</b> Es el espacio en donde se almacena todo el contenido de nuestro proyecto. Esto incluye archivos, sus versiones anteriores y demás información importante.</li>\n",
    "    <li><b>Branch:</b> Es una versión del repositorio independiente del código principal. Generalmente utilizada para realizar pruebas antes de implementar nuevos cambios en producción.</li>\n",
    "    <li><b>Clone:</b> Es una copia identica de un repositorio.</li>\n",
    "    <li><b>Master:</b> Es el nombre que normalmente se le da a la branch principal de un proyecto.</li>\n",
    "    <li><b>Merge:</b> Es agregar los cambios de una branch a otra para unirlas.</li>\n",
    "    <li><b>Pull/Push request:</b> Es obtener los últimos cambios de un repo o subir los al repo los cambios mas recientes, respectivamente.</li>\n",
    "</ul>"
   ]
  },
  {
   "cell_type": "markdown",
   "id": "10b9e7c8-79f0-42c1-a875-1f91907339f3",
   "metadata": {
    "tags": []
   },
   "source": [
    "# ¿Qué es GitHub? <img src=\"https://cdn.icon-icons.com/icons2/2368/PNG/512/github_logo_icon_143772.png\" alt=\"Logo GitHub\" width=\"30\">"
   ]
  },
  {
   "cell_type": "markdown",
   "id": "efb2ef8d-4d62-40a0-8660-900dd33a29f7",
   "metadata": {},
   "source": [
    "<img src=\"https://github.githubassets.com/assets/GitHub-Logo-ee398b662d42.png\" alt=\"GitHub\" width=\"40\"> es una plataforma web utilizada para alojar sistemas Git en la nube. Git por sí solo, funciona de manera local, por lo que las versiones anteriores de los archivos solo están disponibles de en nuestra computadora. Al utilizar GitHub (o cualquier otro servicio de host en la nube), se vuelve posible acceder a estos proyectos desde cualquier otro lugar. Para guardar un proyecto en GitHub, se sube el código a un repositorio de Git, el lugar donde se almacenan los distintos archivos que componen nuestro proyecto. \n",
    "\n",
    "Esto resulta de mucha utilidad para el desarrollo de proyectos de manera cooperativa, ya que cada desarrollador podrá acceder al código y tenerlo en su computadora local. Igualmente podrá realizar cambios que se verán reflejados en el código de los demás una vez que estos han sido subidos y aprobados. \n"
   ]
  },
  {
   "cell_type": "markdown",
   "id": "96e59c7b-889a-47db-8094-64b6e96ae598",
   "metadata": {
    "tags": []
   },
   "source": [
    "# Comandos básicos de Git"
   ]
  },
  {
   "cell_type": "markdown",
   "id": "cedb332b-c037-4bc7-99d2-9122007c1450",
   "metadata": {},
   "source": [
    "Git tiene una considerable cantidad de comandos que nos permiten realizar una variedad de acciones con nuestro código. Entre las funcionalidades más básicas podemos mencionar: crear un repositorio de Git, guardar cambios realizados a los archivos, subir nuestros cambios, entre otros. Algunos de estos comandos son:"
   ]
  },
  {
   "cell_type": "markdown",
   "id": "59294fa8-1817-4c02-98e0-8400caec33dd",
   "metadata": {},
   "source": [
    "<ul>\n",
    "    <li>\n",
    "        Inicializar un directorio como repositorio de Git:\n",
    "        <code>git init</code>\n",
    "    </li>\n",
    "    <li>\n",
    "        Clonar un repo:\n",
    "        <code>git clone [url]</code>\n",
    "    </li>\n",
    "    <li>\n",
    "        Mostrar archivos modificados:\n",
    "        <code>git status</code>\n",
    "    </li>\n",
    "    <li>\n",
    "        Agregar archivos modificados a un commit:\n",
    "        <code>git add [archivo]</code>\n",
    "    </li>\n",
    "    <li>\n",
    "        Hacer commit de los cambios:\n",
    "        <code>git commit -m [Mensaje descriptivo]</code>\n",
    "    </li>\n",
    "    <li>\n",
    "        Crear una nueva rama (branch):\n",
    "        <code>git branch [nombre]</code>\n",
    "    </li>\n",
    "    <li>\n",
    "        Cambiar de rama:\n",
    "        <code>git checkout [nombre]</code>\n",
    "    </li>\n",
    "    <li>\n",
    "        Mostrar historial de versiones:\n",
    "        <code>git log</code>\n",
    "    </li>\n",
    "    <li>\n",
    "        Hacer push al repo de los cambios realizados:\n",
    "        <code>git push [alias] [branch]</code>\n",
    "    </li>\n",
    "    <li>\n",
    "        Obtener los cambios más recientes:\n",
    "        <code>git pull</code>\n",
    "    </li>\n",
    "</ul>\n"
   ]
  },
  {
   "cell_type": "markdown",
   "id": "0f4e2ad8-d716-47c8-9920-48520d77c6c6",
   "metadata": {
    "tags": []
   },
   "source": [
    "# Ejemplo de uso de Git "
   ]
  },
  {
   "cell_type": "markdown",
   "id": "b25eb53c-9c21-442a-824a-356e164ee0f8",
   "metadata": {},
   "source": [
    "La utilidad de Git se puede demostrar en esta misma tarea explicando los comandos utilizados para subir este notebook al repo correspondiente. Esto se hizo de la siguiente manera:\n",
    "\n",
    "#### Comandos\n",
    "\n",
    "<code>git init</code><br>\n",
    "<code>git remote add origin https://github.com/SirJose/Laboratorio1.git</code><br>\n",
    "<code>git add .</code><br>\n",
    "<code>git commit -m \"Commit inicial\"</code><br>\n",
    "<code>git push origin master</code><br>\n",
    "\n",
    "#### Explicación \n",
    "\n",
    "En la primera línea, el comando `git init` se inicializa un nuevo repo en nuestro directorio.<br>\n",
    "En la segunda línea, el comando `git remote add origin https://github.com/SirJose/Laboratorio1.git` indicar a git la URL de nuestro repo en GitHub.<br>\n",
    "En la tercera línea, el comando `git add .` agrega al area de staging los archivos modificados (el punto indica que se agregan todos los archivos).<br>\n",
    "En la cuarta línea, el comando `git commit -m \"Commit inicial\"` crea un nuevo commit y agrega el mensaje \"Commit inicial\".<br>\n",
    "En la quinta línea, el comando `git push origin master` sube los cambios de la rama *master* al repo.<br>\n",
    "<br><br>\n",
    "\n",
    "Cabe mencionar que es necesario crear el repositorio desde GitHub antes de subir nuestros cambios. De esta manera se nos proveerá de un link, que es la dirección a donde indicaremos a Git que debe subir nuestro código. Para este ejemplo previamente se creó un repositorio con el nombre *Laboratorio1*."
   ]
  },
  {
   "cell_type": "markdown",
   "id": "f062f5c2-7feb-4951-a0b5-4c6aa4df02d3",
   "metadata": {},
   "source": [
    "# MagicCells  <img src=\"https://cdn.icon-icons.com/icons2/1808/PNG/512/command-line_115191.png\" alt=\"Logo GitHub\" width=\"20\">"
   ]
  },
  {
   "cell_type": "markdown",
   "id": "3beec115-892f-40dc-bb05-6f14ba43764e",
   "metadata": {
    "tags": []
   },
   "source": [
    "A continuación incluimos nuevamente los comandos del ejemplo anterior, esta vez como magic cells ejecutables. Siempre con el objetivo de subir los contenidos del directorio que contiene a la tarea al repo correspondiente:"
   ]
  },
  {
   "cell_type": "code",
   "execution_count": null,
   "id": "84dccd63-192e-4f6f-88fd-2db56f79771e",
   "metadata": {
    "tags": []
   },
   "outputs": [],
   "source": [
    "!git init"
   ]
  },
  {
   "cell_type": "code",
   "execution_count": 4,
   "id": "c1a14021-8b3d-46b3-bfb6-4a4085d49c12",
   "metadata": {
    "tags": []
   },
   "outputs": [],
   "source": [
    "!git remote add origin https://github.com/SirJose/Laboratorio1.git"
   ]
  },
  {
   "cell_type": "code",
   "execution_count": null,
   "id": "c6202fd7-04e3-4c63-a6b1-961fd6d1c8d3",
   "metadata": {},
   "outputs": [],
   "source": [
    "!git add ."
   ]
  },
  {
   "cell_type": "code",
   "execution_count": null,
   "id": "ad57f509-f9a1-4f5b-a36e-bcb0fd045c21",
   "metadata": {},
   "outputs": [],
   "source": [
    "!git commit -m \"Commit inicial\""
   ]
  },
  {
   "cell_type": "code",
   "execution_count": null,
   "id": "9e513531-a3eb-47d4-bdfe-34c3f36e5e45",
   "metadata": {},
   "outputs": [],
   "source": [
    "!git push origin master"
   ]
  }
 ],
 "metadata": {
  "kernelspec": {
   "display_name": "Python 3 (ipykernel)",
   "language": "python",
   "name": "python3"
  },
  "language_info": {
   "codemirror_mode": {
    "name": "ipython",
    "version": 3
   },
   "file_extension": ".py",
   "mimetype": "text/x-python",
   "name": "python",
   "nbconvert_exporter": "python",
   "pygments_lexer": "ipython3",
   "version": "3.11.5"
  }
 },
 "nbformat": 4,
 "nbformat_minor": 5
}
