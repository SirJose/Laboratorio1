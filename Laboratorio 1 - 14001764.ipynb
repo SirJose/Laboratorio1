{
 "cells": [
  {
   "cell_type": "markdown",
   "id": "bb03cae0-06c5-4be0-b91e-2bfce6b8fe31",
   "metadata": {},
   "source": [
    "# <center>Laboratorio #1</center>\n",
    "\n",
    "#### ***Nombre***: Jose Eduardo Calderon Lopez\n",
    "#### ***Carnet***: 14001764\n",
    "\n",
    "<br>\n",
    "<hr>\n",
    "<br>"
   ]
  },
  {
   "cell_type": "markdown",
   "id": "6681548b-9fc6-492d-ba01-e35e60bf730b",
   "metadata": {
    "tags": []
   },
   "source": [
    "# ¿Qué es Git?"
   ]
  },
  {
   "cell_type": "markdown",
   "id": "f8d11342-b307-4360-8637-9c4982d30f0b",
   "metadata": {
    "tags": []
   },
   "source": [
    "Git es un sistema de control de versiones (VCS). Como su nombre lo indica, es una herramienta utilizada para llevar el control de las distintas versiones del código o de cualquier otro tipo de archivos de cualquier proyecto. Al hablar de versiones del código nos referimos a como este va cambiando a medida que se realiza cualquier tipo de modificación.\n",
    "\n",
    "Una analogía que nos puede ser de utilidad para entender el problema que trata de solucionar Git es por ejemplo cuando escribimos un documento de investigación. Generalmente lo que hacemos cambios es crear copias del mismo archivo para llevar una especie de “historial\" del mismo hasta que llegamos a la versión final entregable. El problema con esto puede no ser tan evidente con un solo archivo, pero cuando esto sucede con proyectos más grandes, se vuelve insostenible. No sería prudente crear una copia entera del código de una aplicación por cada cambio realizado. \n",
    "\n",
    "Por otro lado, se podría utilizar una única copia del documento, sin embargo, esto también es problemático. Si cometemos un error no podremos volver a una versión anterior del documento. Lo mismo sucede con el código de un proyecto. Sería muy problemático si accidentalmente introducimos un problema al código y no disponemos de la versión anterior del código que no tenía este error. \n",
    "\n",
    "Git soluciona este problema al permitirnos llevar el control de las distintas versiones anteriores de uno o varios archivos sin necesidad de crear copias cada vez que realizamos un cambio. Además, nos permite volver a las versiones anteriores con mucha facilidad, comparar entre versiones, crear distintas ramas de trabajo y todo esto haciendo uso de unas cuantas líneas de código.\n"
   ]
  },
  {
   "cell_type": "markdown",
   "id": "10b9e7c8-79f0-42c1-a875-1f91907339f3",
   "metadata": {
    "tags": []
   },
   "source": [
    "# ¿Qué es GitHub?"
   ]
  },
  {
   "cell_type": "markdown",
   "id": "efb2ef8d-4d62-40a0-8660-900dd33a29f7",
   "metadata": {},
   "source": [
    "GitHub es una plataforma web utilizada para alojar sistemas Git en la nube. Git por sí solo, funciona de manera local, por lo que las versiones anteriores de los archivos solo están disponibles de en nuestra computadora. Al utilizar GitHub (o cualquier otro servicio de host en la nube), se vuelve posible acceder a estos proyectos desde cualquier otro lugar. Para guardar un proyecto en GitHub, se sube el código a un repositorio de Git, el lugar donde se almacenan los distintos archivos que componen nuestro proyecto. \n",
    "\n",
    "Esto resulta de mucha utilidad para el desarrollo de proyectos de manera cooperativa, ya que cada desarrollador podrá acceder al código y tenerlo en su computadora local. Igualmente podrá realizar cambios que se verán reflejados en el código de los demás una vez que estos han sido subidos y aprobados. \n"
   ]
  },
  {
   "cell_type": "markdown",
   "id": "96e59c7b-889a-47db-8094-64b6e96ae598",
   "metadata": {
    "tags": []
   },
   "source": [
    "# Comandos básicos de Git"
   ]
  },
  {
   "cell_type": "markdown",
   "id": "cedb332b-c037-4bc7-99d2-9122007c1450",
   "metadata": {},
   "source": [
    "Git tiene una considerable cantidad de comandos que nos permiten realizar una variedad de acciones con nuestro código. Entre las funcionalidades más básicas podemos mencionar: crear un repositorio de Git, guardar cambios realizados a los archivos, subir nuestros cambios, entre otros. Algunos de estos comandos son:"
   ]
  },
  {
   "cell_type": "markdown",
   "id": "59294fa8-1817-4c02-98e0-8400caec33dd",
   "metadata": {},
   "source": [
    "<ul>\n",
    "    <li>\n",
    "        Inicializar un directorio como repositorio de Git:\n",
    "        <code>git init</code>\n",
    "    </li>\n",
    "    <li>\n",
    "        Clonar un repo:\n",
    "        <code>git clone [url]</code>\n",
    "    </li>\n",
    "    <li>\n",
    "        Mostrar archivos modificados:\n",
    "        <code>git status</code>\n",
    "    </li>\n",
    "    <li>\n",
    "        Agregar archivos modificados a un commit:\n",
    "        <code>git add [archivo]</code>\n",
    "    </li>\n",
    "    <li>\n",
    "        Hacer commit de los cambios:\n",
    "        <code>git commit -m [Mensaje descriptivo]</code>\n",
    "    </li>\n",
    "    <li>\n",
    "        Crear una nueva rama (branch):\n",
    "        <code>git branch [nombre]</code>\n",
    "    </li>\n",
    "    <li>\n",
    "        Cambiar de rama:\n",
    "        <code>git checkout [nombre]</code>\n",
    "    </li>\n",
    "    <li>\n",
    "        Mostrar historial de versiones:\n",
    "        <code>git log</code>\n",
    "    </li>\n",
    "    <li>\n",
    "        Hacer push al repo de los cambios realizados:\n",
    "        <code>git push [alias] [branch]</code>\n",
    "    </li>\n",
    "    <li>\n",
    "        Obtener los cambios más recientes:\n",
    "        <code>git pull</code>\n",
    "    </li>\n",
    "</ul>\n"
   ]
  },
  {
   "cell_type": "markdown",
   "id": "0f4e2ad8-d716-47c8-9920-48520d77c6c6",
   "metadata": {
    "tags": []
   },
   "source": [
    "# Ejemplo de uso de Git "
   ]
  },
  {
   "cell_type": "markdown",
   "id": "b25eb53c-9c21-442a-824a-356e164ee0f8",
   "metadata": {},
   "source": [
    "La utilidad de Git se puede demostrar en esta misma tarea explicando los comandos utilizados para subir este notebook al repo correspondiente. Esto se hizo de la siguiente manera:\n",
    "\n",
    "<code>git init</code>"
   ]
  },
  {
   "cell_type": "markdown",
   "id": "f062f5c2-7feb-4951-a0b5-4c6aa4df02d3",
   "metadata": {},
   "source": [
    "# MagicCells"
   ]
  },
  {
   "cell_type": "code",
   "execution_count": 2,
   "id": "4ab4e60a-7f17-4c62-aeff-d0a939b3794d",
   "metadata": {
    "tags": []
   },
   "outputs": [
    {
     "name": "stdout",
     "output_type": "stream",
     "text": [
      " Volume in drive C has no label.\n",
      " Volume Serial Number is 1C33-56A7\n",
      "\n",
      " Directory of C:\\Users\\josee\\Documents\\Laboratorios Python\n",
      "\n",
      "13/02/2024  08:57 p. m.    <DIR>          .\n",
      "13/02/2024  08:57 p. m.    <DIR>          ..\n",
      "13/02/2024  03:18 p. m.    <DIR>          .ipynb_checkpoints\n",
      "13/02/2024  08:57 p. m.             6,228 Laboratorio 1 - 14001764.ipynb\n",
      "05/02/2024  12:07 a. m.            26,260 Leccion 2 - 14001764.ipynb\n",
      "05/02/2024  12:06 a. m.             4,628 Leccion 2 - 14001764.zip\n",
      "09/02/2024  09:02 p. m.            28,394 Leccion 3 - 14001764.ipynb\n",
      "09/02/2024  09:03 p. m.             5,482 Leccion 3 - 14001764.zip\n",
      "               5 File(s)         70,992 bytes\n",
      "               3 Dir(s)  27,299,962,880 bytes free\n"
     ]
    }
   ],
   "source": []
  }
 ],
 "metadata": {
  "kernelspec": {
   "display_name": "Python 3 (ipykernel)",
   "language": "python",
   "name": "python3"
  },
  "language_info": {
   "codemirror_mode": {
    "name": "ipython",
    "version": 3
   },
   "file_extension": ".py",
   "mimetype": "text/x-python",
   "name": "python",
   "nbconvert_exporter": "python",
   "pygments_lexer": "ipython3",
   "version": "3.11.5"
  }
 },
 "nbformat": 4,
 "nbformat_minor": 5
}
